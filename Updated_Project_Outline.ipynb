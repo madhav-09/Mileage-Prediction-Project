{
 "cells": [
  {
   "cell_type": "markdown",
   "metadata": {
    "id": "dqZ-nhxiganh"
   },
   "source": [
    "# **Title of Project**"
   ]
  },
  {
   "cell_type": "markdown",
   "id": "27eabb82",
   "metadata": {},
   "source": [
    "# **Mileage Prediction using Regression Analysis**"
   ]
  },
  {
   "cell_type": "markdown",
   "metadata": {
    "id": "Xns_rCdhh-vZ"
   },
   "source": [
    "## **Objective**"
   ]
  },
  {
   "cell_type": "markdown",
   "id": "66c488c5",
   "metadata": {},
   "source": [
    "## **Objective**\n",
    "\n",
    "Predict car mileage (MPG) based on various features such as cylinders, displacement, horsepower, weight, acceleration, and origin."
   ]
  },
  {
   "cell_type": "markdown",
   "metadata": {
    "id": "-Vbnt9CciKJP"
   },
   "source": [
    "## **Data Source**"
   ]
  },
  {
   "cell_type": "markdown",
   "id": "085bebea",
   "metadata": {},
   "source": [
    "## **Data Source**\n",
    "\n",
    "The dataset is sourced from [YBI Foundation Dataset](https://github.com/YBI-Foundation/Dataset/raw/main/MPG.csv)."
   ]
  },
  {
   "cell_type": "markdown",
   "metadata": {
    "id": "r7GrZzX0iTlV"
   },
   "source": [
    "## **Import Library**"
   ]
  },
  {
   "cell_type": "code",
   "execution_count": null,
   "metadata": {
    "id": "UkK6NH9DiW-X"
   },
   "outputs": [],
   "source": [
    "\n",
    "import pandas as pd\n",
    "import numpy as np\n",
    "import seaborn as sns\n",
    "import matplotlib.pyplot as plt\n",
    "from sklearn.model_selection import train_test_split\n",
    "from sklearn.linear_model import LinearRegression\n",
    "from sklearn.metrics import mean_squared_error, r2_score\n",
    "\n"
   ]
  },
  {
   "cell_type": "markdown",
   "metadata": {
    "id": "9lHPQj1XiOUc"
   },
   "source": [
    "## **Import Data**"
   ]
  },
  {
   "cell_type": "code",
   "execution_count": null,
   "metadata": {
    "id": "zcU1fdnGho6M"
   },
   "outputs": [],
   "source": [
    "url = 'https://github.com/YBI-Foundation/Dataset/raw/main/MPG.csv'\n",
    "data = pd.read_csv(url)"
   ]
  },
  {
   "cell_type": "markdown",
   "metadata": {
    "id": "7PUnimBoiX-x"
   },
   "source": [
    "## **Describe Data**"
   ]
  },
  {
   "cell_type": "code",
   "execution_count": null,
   "metadata": {
    "id": "kG15arusiZ8Z"
   },
   "outputs": [],
   "source": [
    "print(\"First five rows of the dataset:\")\n",
    "print(data.head())\n",
    "\n",
    "print(\"\\nInformation about the dataset:\")\n",
    "print(data.info())\n",
    "\n",
    "print(\"\\nSummary statistics of the dataset:\")\n",
    "print(data.describe())\n",
    "\n",
    "# Check for missing values\n",
    "print(\"\\nMissing values in each column:\")\n",
    "print(data.isnull().sum())"
   ]
  },
  {
   "cell_type": "markdown",
   "metadata": {
    "id": "oBGX4Ekniriz"
   },
   "source": [
    "## **Data Visualization**"
   ]
  },
  {
   "cell_type": "code",
   "execution_count": null,
   "metadata": {
    "id": "lW-OIRK0iuzO"
   },
   "outputs": [],
   "source": [
    "sns.histplot(data['MPG'], kde=True)\n",
    "plt.title('Distribution of MPG')\n",
    "plt.xlabel('Miles Per Gallon (MPG)')\n",
    "plt.ylabel('Frequency')\n",
    "plt.show()\n"
   ]
  },
  {
   "cell_type": "markdown",
   "metadata": {
    "id": "UqfyPOCYiiww"
   },
   "source": [
    "## **Data Preprocessing**"
   ]
  },
  {
   "cell_type": "code",
   "execution_count": null,
   "metadata": {
    "id": "3cyr3fbGin0A"
   },
   "outputs": [],
   "source": [
    "data['Horsepower'] = data['Horsepower'].replace('?', np.nan).astype(float)\n",
    "data['Horsepower'].fillna(data['Horsepower'].median(), inplace=True)\n",
    "\n",
    "data = pd.get_dummies(data, columns=['Origin'], drop_first=True)\n",
    "data.drop(columns=['Car Name'], inplace=True)\n",
    "\n",
    "\n"
   ]
  },
  {
   "cell_type": "markdown",
   "metadata": {
    "id": "2jXJpdAuiwYW"
   },
   "source": [
    "## **Define Target Variable (y) and Feature Variables (X)**"
   ]
  },
  {
   "cell_type": "code",
   "execution_count": null,
   "metadata": {
    "id": "QBCakTuli57t"
   },
   "outputs": [],
   "source": [
    "X = data.drop('MPG', axis=1)\n",
    "y = data['MPG']"
   ]
  },
  {
   "cell_type": "markdown",
   "metadata": {
    "id": "90_0q_Pbi658"
   },
   "source": [
    "## **Train Test Split**"
   ]
  },
  {
   "cell_type": "code",
   "execution_count": null,
   "metadata": {
    "id": "u60YYaOFi-Dw"
   },
   "outputs": [],
   "source": [
    "X_train, X_test, y_train, y_test = train_test_split(X, y, test_size=0.2, random_state=42)\n"
   ]
  },
  {
   "cell_type": "markdown",
   "metadata": {
    "id": "cIhyseNria7W"
   },
   "source": [
    "## **Modeling**"
   ]
  },
  {
   "cell_type": "code",
   "execution_count": null,
   "metadata": {
    "id": "Toq58wpkjCw7"
   },
   "outputs": [],
   "source": [
    "model = LinearRegression()\n",
    "model.fit(X_train, y_train)\n",
    "y_pred = model.predict(X_test)"
   ]
  },
  {
   "cell_type": "markdown",
   "metadata": {
    "id": "vhAwWfG0jFun"
   },
   "source": [
    "## **Model Evaluation**"
   ]
  },
  {
   "cell_type": "code",
   "execution_count": null,
   "metadata": {
    "id": "lND3jJj_jhx4"
   },
   "outputs": [],
   "source": [
    "mse = mean_squared_error(y_test, y_pred)\n",
    "r2 = r2_score(y_test, y_pred)\n",
    "\n",
    "print(f'\\nMean Squared Error: {mse}')\n",
    "print(f'R-squared: {r2}')"
   ]
  },
  {
   "cell_type": "markdown",
   "metadata": {
    "id": "8AzwG7oLjiQI"
   },
   "source": [
    "## **Prediction**"
   ]
  },
  {
   "cell_type": "code",
   "execution_count": null,
   "metadata": {
    "id": "JLebGzDJjknA"
   },
   "outputs": [],
   "source": [
    "plt.scatter(y_test, y_pred)\n",
    "plt.xlabel('Actual MPG')\n",
    "plt.ylabel('Predicted MPG')\n",
    "plt.title('Actual vs Predicted MPG')\n",
    "plt.show()\n"
   ]
  },
  {
   "cell_type": "markdown",
   "metadata": {
    "id": "Ybi8FR9Kjv00"
   },
   "source": [
    "\n",
    "\n"
   ]
  },
  {
   "cell_type": "code",
   "execution_count": null,
   "id": "81bc8cac",
   "metadata": {},
   "outputs": [],
   "source": [
    "\n",
    "# Step 3: Exploratory Data Analysis (EDA)\n",
    "print(\"First five rows of the dataset:\")\n",
    "print(data.head())\n",
    "\n",
    "print(\"\\nInformation about the dataset:\")\n",
    "print(data.info())\n",
    "\n",
    "print(\"\\nSummary statistics of the dataset:\")\n",
    "print(data.describe())\n",
    "\n",
    "# Check for missing values\n",
    "print(\"\\nMissing values in each column:\")\n",
    "print(data.isnull().sum())\n",
    "\n",
    "# Visualize the distribution of MPG\n",
    "sns.histplot(data['MPG'], kde=True)\n",
    "plt.title('Distribution of MPG')\n",
    "plt.xlabel('Miles Per Gallon (MPG)')\n",
    "plt.ylabel('Frequency')\n",
    "plt.show()\n"
   ]
  },
  {
   "cell_type": "code",
   "execution_count": null,
   "id": "40ca424b",
   "metadata": {},
   "outputs": [],
   "source": [
    "\n",
    "# Step 4: Data Preprocessing\n",
    "# Handle missing values in 'Horsepower'\n",
    "data['Horsepower'] = data['Horsepower'].replace('?', np.nan).astype(float)\n",
    "data['Horsepower'].fillna(data['Horsepower'].median(), inplace=True)\n",
    "\n",
    "# Encode categorical variables\n",
    "data = pd.get_dummies(data, columns=['Origin'], drop_first=True)\n",
    "\n",
    "# Drop unnecessary columns\n",
    "data.drop(columns=['Car Name'], inplace=True)\n"
   ]
  },
  {
   "cell_type": "code",
   "execution_count": null,
   "id": "fc49f762",
   "metadata": {},
   "outputs": [],
   "source": [
    "\n",
    "# Step 5: Model Building\n",
    "# Define features and target variable\n",
    "X = data.drop('MPG', axis=1)\n",
    "y = data['MPG']\n",
    "\n",
    "# Split the data into training and testing sets\n",
    "X_train, X_test, y_train, y_test = train_test_split(X, y, test_size=0.2, random_state=42)\n",
    "\n",
    "# Initialize and train the model\n",
    "model = LinearRegression()\n",
    "model.fit(X_train, y_train)\n"
   ]
  },
  {
   "cell_type": "code",
   "execution_count": null,
   "id": "685e1241",
   "metadata": {},
   "outputs": [],
   "source": [
    "\n",
    "# Step 6: Model Evaluation\n",
    "# Make predictions\n",
    "y_pred = model.predict(X_test)\n",
    "\n",
    "# Evaluate the model\n",
    "mse = mean_squared_error(y_test, y_pred)\n",
    "r2 = r2_score(y_test, y_pred)\n",
    "\n",
    "print(f'\\nMean Squared Error: {mse}')\n",
    "print(f'R-squared: {r2}')\n",
    "\n",
    "# Plot actual vs predicted MPG\n",
    "plt.scatter(y_test, y_pred)\n",
    "plt.xlabel('Actual MPG')\n",
    "plt.ylabel('Predicted MPG')\n",
    "plt.title('Actual vs Predicted MPG')\n",
    "plt.show()\n"
   ]
  },
  {
   "cell_type": "markdown",
   "id": "7405cbc5",
   "metadata": {},
   "source": [
    "\n",
    "## **Conclusion**\n",
    "\n",
    "The Linear Regression model was trained to predict the MPG of cars. The Mean Squared Error of the model is {mse:.2f} and the R-squared value is {r2:.2f}. These metrics indicate the performance of the model, with R-squared showing how well the variance in MPG is explained by the features.\n"
   ]
  }
 ],
 "metadata": {
  "colab": {
   "authorship_tag": "ABX9TyPZl4d0nA5Qmq8X1mDqSb1O",
   "name": "Project Outline.ipynb",
   "provenance": []
  },
  "kernelspec": {
   "display_name": "Python 3",
   "name": "python3"
  },
  "language_info": {
   "name": "python"
  }
 },
 "nbformat": 4,
 "nbformat_minor": 0
}
